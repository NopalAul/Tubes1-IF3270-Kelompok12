{
 "cells": [
  {
   "cell_type": "code",
   "execution_count": 1,
   "metadata": {},
   "outputs": [],
   "source": [
    "import numpy as np\n",
    "import matplotlib.pyplot as plt\n",
    "from sklearn.datasets import fetch_openml\n",
    "from sklearn.preprocessing import StandardScaler\n",
    "from sklearn.model_selection import train_test_split\n",
    "from sklearn.preprocessing import OneHotEncoder\n",
    "\n",
    "from activation import ReLU, Softmax\n",
    "from loss import CategoricalCrossEntropy\n",
    "from initialization import XavierInitialization, HeInitialization\n",
    "from model import FFNN\n",
    "\n",
    "mnist = fetch_openml('mnist_784', version=1, as_frame=False, parser='auto')\n",
    "X = mnist.data.astype('float32')\n",
    "y = mnist.target.astype('int64')\n",
    "\n",
    "scaler = StandardScaler()\n",
    "X = scaler.fit_transform(X)\n",
    "\n",
    "# Onehot buat label\n",
    "encoder = OneHotEncoder(sparse_output=False)\n",
    "y_onehot = encoder.fit_transform(y.reshape(-1, 1))\n",
    "\n",
    "X_train, X_test, y_train, y_test = train_test_split(X, y_onehot, test_size=0.2, random_state=42)"
   ]
  },
  {
   "cell_type": "code",
   "execution_count": null,
   "metadata": {},
   "outputs": [
    {
     "name": "stdout",
     "output_type": "stream",
     "text": [
      "Epoch 1/21\n"
     ]
    },
    {
     "name": "stderr",
     "output_type": "stream",
     "text": [
      "  0%|          | 0/56000 [00:00<?, ?it/s]"
     ]
    },
    {
     "name": "stderr",
     "output_type": "stream",
     "text": [
      "100%|██████████| 56000/56000 [00:04<00:00, 11727.69it/s, train_loss=0.5673, val_loss=0.3176]\n"
     ]
    },
    {
     "name": "stdout",
     "output_type": "stream",
     "text": [
      "Epoch 2/21\n"
     ]
    },
    {
     "name": "stderr",
     "output_type": "stream",
     "text": [
      "100%|██████████| 56000/56000 [00:04<00:00, 11778.59it/s, train_loss=0.2567, val_loss=0.2514]\n"
     ]
    },
    {
     "name": "stdout",
     "output_type": "stream",
     "text": [
      "Epoch 3/21\n"
     ]
    },
    {
     "name": "stderr",
     "output_type": "stream",
     "text": [
      "100%|██████████| 56000/56000 [00:04<00:00, 11869.70it/s, train_loss=0.1987, val_loss=0.2207]\n"
     ]
    },
    {
     "name": "stdout",
     "output_type": "stream",
     "text": [
      "Epoch 4/21\n"
     ]
    },
    {
     "name": "stderr",
     "output_type": "stream",
     "text": [
      "100%|██████████| 56000/56000 [00:04<00:00, 11768.24it/s, train_loss=0.1664, val_loss=0.2018]\n"
     ]
    },
    {
     "name": "stdout",
     "output_type": "stream",
     "text": [
      "Epoch 5/21\n"
     ]
    },
    {
     "name": "stderr",
     "output_type": "stream",
     "text": [
      "100%|██████████| 56000/56000 [00:04<00:00, 11658.89it/s, train_loss=0.1438, val_loss=0.1906]\n"
     ]
    },
    {
     "name": "stdout",
     "output_type": "stream",
     "text": [
      "Epoch 6/21\n"
     ]
    },
    {
     "name": "stderr",
     "output_type": "stream",
     "text": [
      "100%|██████████| 56000/56000 [00:04<00:00, 11986.25it/s, train_loss=0.1280, val_loss=0.1829]\n"
     ]
    },
    {
     "name": "stdout",
     "output_type": "stream",
     "text": [
      "Epoch 7/21\n"
     ]
    },
    {
     "name": "stderr",
     "output_type": "stream",
     "text": [
      "100%|██████████| 56000/56000 [00:04<00:00, 11728.72it/s, train_loss=0.1164, val_loss=0.1764]\n"
     ]
    },
    {
     "name": "stdout",
     "output_type": "stream",
     "text": [
      "Epoch 8/21\n"
     ]
    },
    {
     "name": "stderr",
     "output_type": "stream",
     "text": [
      "100%|██████████| 56000/56000 [00:04<00:00, 11838.07it/s, train_loss=0.1059, val_loss=0.1737]\n"
     ]
    },
    {
     "name": "stdout",
     "output_type": "stream",
     "text": [
      "Epoch 9/21\n"
     ]
    },
    {
     "name": "stderr",
     "output_type": "stream",
     "text": [
      "100%|██████████| 56000/56000 [00:04<00:00, 11908.36it/s, train_loss=0.0973, val_loss=0.1722]\n"
     ]
    },
    {
     "name": "stdout",
     "output_type": "stream",
     "text": [
      "Epoch 10/21\n"
     ]
    },
    {
     "name": "stderr",
     "output_type": "stream",
     "text": [
      "100%|██████████| 56000/56000 [00:04<00:00, 12081.55it/s, train_loss=0.0912, val_loss=0.1688]\n"
     ]
    },
    {
     "name": "stdout",
     "output_type": "stream",
     "text": [
      "Epoch 11/21\n"
     ]
    },
    {
     "name": "stderr",
     "output_type": "stream",
     "text": [
      "100%|██████████| 56000/56000 [00:04<00:00, 11988.63it/s, train_loss=0.0847, val_loss=0.1688]\n"
     ]
    },
    {
     "name": "stdout",
     "output_type": "stream",
     "text": [
      "Epoch 12/21\n"
     ]
    },
    {
     "name": "stderr",
     "output_type": "stream",
     "text": [
      "100%|██████████| 56000/56000 [00:04<00:00, 11858.56it/s, train_loss=0.0789, val_loss=0.1665]\n"
     ]
    },
    {
     "name": "stdout",
     "output_type": "stream",
     "text": [
      "Epoch 13/21\n"
     ]
    },
    {
     "name": "stderr",
     "output_type": "stream",
     "text": [
      "100%|██████████| 56000/56000 [00:04<00:00, 11947.91it/s, train_loss=0.0755, val_loss=0.1658]\n"
     ]
    },
    {
     "name": "stdout",
     "output_type": "stream",
     "text": [
      "Epoch 14/21\n"
     ]
    },
    {
     "name": "stderr",
     "output_type": "stream",
     "text": [
      "100%|██████████| 56000/56000 [00:04<00:00, 13136.44it/s, train_loss=0.0705, val_loss=0.1662]\n"
     ]
    },
    {
     "name": "stdout",
     "output_type": "stream",
     "text": [
      "Epoch 15/21\n"
     ]
    },
    {
     "name": "stderr",
     "output_type": "stream",
     "text": [
      "100%|██████████| 56000/56000 [00:03<00:00, 18551.38it/s, train_loss=0.0676, val_loss=0.1645]\n"
     ]
    },
    {
     "name": "stdout",
     "output_type": "stream",
     "text": [
      "Epoch 16/21\n"
     ]
    },
    {
     "name": "stderr",
     "output_type": "stream",
     "text": [
      "100%|██████████| 56000/56000 [00:03<00:00, 17744.20it/s, train_loss=0.0642, val_loss=0.1659]\n"
     ]
    },
    {
     "name": "stdout",
     "output_type": "stream",
     "text": [
      "Epoch 17/21\n"
     ]
    },
    {
     "name": "stderr",
     "output_type": "stream",
     "text": [
      "100%|██████████| 56000/56000 [00:02<00:00, 18823.66it/s, train_loss=0.0607, val_loss=0.1652]\n"
     ]
    },
    {
     "name": "stdout",
     "output_type": "stream",
     "text": [
      "Epoch 18/21\n"
     ]
    },
    {
     "name": "stderr",
     "output_type": "stream",
     "text": [
      "100%|██████████| 56000/56000 [00:03<00:00, 18036.77it/s, train_loss=0.0567, val_loss=0.1688]\n"
     ]
    },
    {
     "name": "stdout",
     "output_type": "stream",
     "text": [
      "Epoch 19/21\n"
     ]
    },
    {
     "name": "stderr",
     "output_type": "stream",
     "text": [
      "100%|██████████| 56000/56000 [00:02<00:00, 21492.30it/s, train_loss=0.0549, val_loss=0.1676]\n"
     ]
    },
    {
     "name": "stdout",
     "output_type": "stream",
     "text": [
      "Epoch 20/21\n"
     ]
    },
    {
     "name": "stderr",
     "output_type": "stream",
     "text": [
      "100%|██████████| 56000/56000 [00:02<00:00, 18708.58it/s, train_loss=0.0512, val_loss=0.1704]\n"
     ]
    },
    {
     "name": "stdout",
     "output_type": "stream",
     "text": [
      "Epoch 21/21\n"
     ]
    },
    {
     "name": "stderr",
     "output_type": "stream",
     "text": [
      "100%|██████████| 56000/56000 [00:03<00:00, 18593.20it/s, train_loss=0.0492, val_loss=0.1699]"
     ]
    },
    {
     "name": "stdout",
     "output_type": "stream",
     "text": [
      "FFNN accuracy: 0.9593\n"
     ]
    },
    {
     "name": "stderr",
     "output_type": "stream",
     "text": [
      "\n"
     ]
    }
   ],
   "source": [
    "layer_sizes = [784, 32, 16, 10]  # 784 fitur input\n",
    "\n",
    "activations = [\n",
    "    ReLU(),\n",
    "    ReLU(), \n",
    "    Softmax()     \n",
    "]\n",
    "\n",
    "loss_function = CategoricalCrossEntropy()\n",
    "\n",
    "initializations = [\n",
    "    XavierInitialization(seed=42),  \n",
    "    XavierInitialization(seed=42),  \n",
    "    XavierInitialization(seed=42)   \n",
    "]\n",
    "\n",
    "model = FFNN(\n",
    "    layer_sizes=layer_sizes,\n",
    "    activations=activations,\n",
    "    loss=loss_function,\n",
    "    initializations=initializations\n",
    ")\n",
    "\n",
    "history = model.train(\n",
    "    x_train=X_train,\n",
    "    y_train=y_train,\n",
    "    batch_size=32,\n",
    "    learning_rate=0.01,\n",
    "    epochs=21,\n",
    "    x_y_val=(X_test, y_test),\n",
    "    verbose=1\n",
    ")\n",
    "\n",
    "# # plot loss\n",
    "# plt.figure(figsize=(10, 6))\n",
    "# plt.plot(history['train_loss'], label='Training Loss')\n",
    "# plt.plot(history['val_loss'], label='Validation Loss')\n",
    "# plt.title('Training and Validation Loss')\n",
    "# plt.xlabel('Epoch')\n",
    "# plt.ylabel('Loss')\n",
    "# plt.legend()\n",
    "# plt.grid(True, alpha=0.3)\n",
    "# plt.show()\n",
    "\n",
    "# model.plot_model()\n",
    "\n",
    "# model.plot_weight_distribution()\n",
    "\n",
    "# model.plot_gradient_distribution()\n",
    "\n",
    "# prediksi\n",
    "y_pred = model.predict(X_test)\n",
    "\n",
    "y_pred_classes = np.argmax(y_pred, axis=1)\n",
    "y_true_classes = np.argmax(y_test, axis=1)\n",
    "\n",
    "accuracy = np.mean(y_pred_classes == y_true_classes)\n",
    "print(f\"FFNN accuracy: {accuracy:.4f}\")\n",
    "\n",
    "# # Visualize 20 predictions\n",
    "# plt.figure(figsize=(15, 5))\n",
    "# for i in range(20):\n",
    "#     plt.subplot(2, 10, i+1)\n",
    "#     plt.imshow(X_test[i].reshape(28, 28), cmap='gray')\n",
    "#     plt.title(f\"True: {y_true_classes[i]}, Pred: {y_pred_classes[i]}\")\n",
    "#     plt.axis('off')\n",
    "# plt.tight_layout()\n",
    "# plt.show()"
   ]
  },
  {
   "cell_type": "code",
   "execution_count": 3,
   "metadata": {},
   "outputs": [
    {
     "name": "stdout",
     "output_type": "stream",
     "text": [
      "Iteration 1, loss = 0.35785142\n",
      "Iteration 2, loss = 0.27187793\n",
      "Iteration 3, loss = 0.25206973\n",
      "Iteration 4, loss = 0.24229149\n",
      "Iteration 5, loss = 0.24166855\n",
      "Iteration 6, loss = 0.23990021\n",
      "Iteration 7, loss = 0.23527891\n",
      "Iteration 8, loss = 0.22536030\n",
      "Iteration 9, loss = 0.22920335\n",
      "Iteration 10, loss = 0.22250690\n",
      "Iteration 11, loss = 0.23119356\n",
      "Iteration 12, loss = 0.22746098\n",
      "Iteration 13, loss = 0.22873179\n",
      "Iteration 14, loss = 0.24208352\n",
      "Iteration 15, loss = 0.23163537\n",
      "Iteration 16, loss = 0.23806910\n",
      "Iteration 17, loss = 0.23135844\n",
      "Iteration 18, loss = 0.22935468\n",
      "Iteration 19, loss = 0.23105349\n",
      "Iteration 20, loss = 0.24477635\n",
      "Iteration 21, loss = 0.23685443\n",
      "Training loss did not improve more than tol=0.000100 for 10 consecutive epochs. Stopping.\n",
      "Sklearn accuracy: 0.9391\n"
     ]
    }
   ],
   "source": [
    "from sklearn.neural_network import MLPClassifier\n",
    "from sklearn.metrics import accuracy_score\n",
    "\n",
    "# fetch ulang MNIST dataset\n",
    "mnist = fetch_openml('mnist_784', version=1)\n",
    "X, y = mnist.data.astype(np.float32), mnist.target.astype(np.int64)\n",
    "\n",
    "scaler = StandardScaler()\n",
    "X = scaler.fit_transform(X)\n",
    "\n",
    "X_train, X_test, y_train, y_test = train_test_split(X, y, test_size=0.2, random_state=42)\n",
    "\n",
    "mlp = MLPClassifier(\n",
    "    hidden_layer_sizes=(32, 16), \n",
    "    activation='relu', \n",
    "    solver='adam',\n",
    "    batch_size=32, \n",
    "    max_iter=30, \n",
    "    random_state=42, \n",
    "    learning_rate='constant',\n",
    "    learning_rate_init=0.01,\n",
    "    verbose=True)\n",
    "\n",
    "mlp.fit(X_train, y_train)\n",
    "\n",
    "y_pred = mlp.predict(X_test)\n",
    "\n",
    "accuracy = accuracy_score(y_test, y_pred)\n",
    "print(f'Sklearn accuracy: {accuracy:.4f}')\n",
    "\n",
    "# fig, axes = plt.subplots(2, 5, figsize=(10, 5))\n",
    "# for i, ax in enumerate(axes.flat):\n",
    "#     ax.imshow(X_test[i].reshape(28, 28), cmap='gray')\n",
    "#     ax.set_title(f'Pred: {y_pred[i]}')\n",
    "#     ax.axis('off')\n",
    "# plt.show()\n"
   ]
  }
 ],
 "metadata": {
  "kernelspec": {
   "display_name": "Python 3",
   "language": "python",
   "name": "python3"
  },
  "language_info": {
   "codemirror_mode": {
    "name": "ipython",
    "version": 3
   },
   "file_extension": ".py",
   "mimetype": "text/x-python",
   "name": "python",
   "nbconvert_exporter": "python",
   "pygments_lexer": "ipython3",
   "version": "3.9.13"
  }
 },
 "nbformat": 4,
 "nbformat_minor": 2
}
