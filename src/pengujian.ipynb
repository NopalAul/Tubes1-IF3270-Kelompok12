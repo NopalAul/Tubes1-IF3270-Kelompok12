{
 "cells": [
  {
   "cell_type": "markdown",
   "metadata": {},
   "source": [
    "# Import Libraries\n",
    "Import necessary libraries including NumPy, Matplotlib, scikit-learn for data, pickle for model saving/loading, networkx for visualization, and tqdm for progress tracking."
   ]
  },
  {
   "cell_type": "code",
   "execution_count": null,
   "metadata": {},
   "outputs": [],
   "source": [
    "import numpy as np\n",
    "import matplotlib.pyplot as plt\n",
    "from sklearn.datasets import fetch_openml\n",
    "from sklearn.preprocessing import StandardScaler\n",
    "from sklearn.model_selection import train_test_split\n",
    "from sklearn.preprocessing import OneHotEncoder"
   ]
  },
  {
   "cell_type": "markdown",
   "metadata": {},
   "source": [
    "# Activation Functions Implementation\n",
    "Implement activation function classes including the base Activation class, Linear, ReLU, Sigmoid, Tanh, and Softmax, each with forward and derivative methods."
   ]
  },
  {
   "cell_type": "markdown",
   "metadata": {},
   "source": [
    "# Loss Functions Implementation\n",
    "Implement loss function classes including the base Loss class, MSE (Mean Squared Error), BinaryCrossEntropy, and CategoricalCrossEntropy, each with forward and derivative methods."
   ]
  },
  {
   "cell_type": "markdown",
   "metadata": {},
   "source": [
    "# Weight Initializers Implementation\n",
    "Implement weight initializer classes including the base Initializer class, ZeroInitializer, UniformInitializer, and NormalInitializer."
   ]
  },
  {
   "cell_type": "markdown",
   "metadata": {},
   "source": [
    "# Layer Implementation\n",
    "Implement the Layer class with forward and backward propagation methods, weight initialization, and gradient updates."
   ]
  },
  {
   "cell_type": "markdown",
   "metadata": {},
   "source": [
    "# FFNN Model Implementation\n",
    "Implement the Feedforward Neural Network (FFNN) class with methods for creating the network, forward and backward propagation, weight updates, training, and prediction."
   ]
  },
  {
   "cell_type": "markdown",
   "metadata": {},
   "source": [
    "# Training and Evaluation on Dataset\n",
    "Load the dataset, preprocess it for classification, and train the FFNN model with appropriate hyperparameters. Evaluate model performance using accuracy metrics."
   ]
  },
  {
   "cell_type": "code",
   "execution_count": null,
   "metadata": {},
   "outputs": [],
   "source": [
    "from activation import Linear, ReLU, Sigmoid, Tanh, Softmax, LeakyReLU, ELU\n",
    "from loss import MeanSquaredError, BinaryCrossEntropy, CategoricalCrossEntropy\n",
    "from initialization import ZeroInitialization, UniformInitialization, NormalInitialization, XavierInitialization, HeInitialization\n",
    "from model import FFNN"
   ]
  },
  {
   "cell_type": "markdown",
   "metadata": {},
   "source": [
    "### Load Dataset & Data Preparation"
   ]
  },
  {
   "cell_type": "code",
   "execution_count": null,
   "metadata": {},
   "outputs": [],
   "source": [
    "mnist = fetch_openml('mnist_784', version=1, as_frame=False, parser='auto')\n",
    "X = mnist.data.astype('float32')\n",
    "y = mnist.target.astype('int64')\n",
    "\n",
    "scaler = StandardScaler()\n",
    "X = scaler.fit_transform(X)\n",
    "\n",
    "# Label butuh di-encode dengan One Hot\n",
    "encoder = OneHotEncoder(sparse_output=False)\n",
    "y_onehot = encoder.fit_transform(y.reshape(-1, 1))\n",
    "\n",
    "X_train, X_test, y_train, y_test = train_test_split(X, y_onehot, test_size=0.2, random_state=42)"
   ]
  },
  {
   "cell_type": "code",
   "execution_count": null,
   "metadata": {},
   "outputs": [],
   "source": [
    "layer_sizes = [784, 128, 32, 10]  # Fitur input ada 784\n",
    "\n",
    "activations = [\n",
    "    LeakyReLU(),\n",
    "    LeakyReLU(), \n",
    "    Softmax()     \n",
    "]\n",
    "\n",
    "loss_function = CategoricalCrossEntropy()\n",
    "\n",
    "initializations = [\n",
    "    HeInitialization(seed=42),  \n",
    "    XavierInitialization(seed=42),  \n",
    "    HeInitialization(seed=42)   \n",
    "]\n",
    "\n",
    "model = FFNN(\n",
    "    layer_sizes=layer_sizes,\n",
    "    activations=activations,\n",
    "    loss=loss_function,\n",
    "    initializations=initializations\n",
    ")\n",
    "\n",
    "history = model.train(\n",
    "    x_train=X_train,\n",
    "    y_train=y_train,\n",
    "    batch_size=32,\n",
    "    learning_rate=0.01,\n",
    "    epochs=20,\n",
    "    x_y_val=(X_test, y_test),\n",
    "    verbose=1\n",
    ")\n",
    "\n",
    "# plot loss\n",
    "plt.figure(figsize=(10, 6))\n",
    "plt.plot(history['train_loss'], label='Training Loss')\n",
    "plt.plot(history['val_loss'], label='Validation Loss')\n",
    "plt.title('Training and Validation Loss')\n",
    "plt.xlabel('Epoch')\n",
    "plt.ylabel('Loss')\n",
    "plt.legend()\n",
    "plt.grid(True, alpha=0.3)\n",
    "plt.show()\n",
    "\n",
    "# prediksi\n",
    "y_pred = model.predict(X_test)\n",
    "y_pred_classes = np.argmax(y_pred, axis=1)\n",
    "y_true_classes = np.argmax(y_test, axis=1)\n",
    "accuracy = np.mean(y_pred_classes == y_true_classes)\n",
    "print(f\"Test accuracy: {accuracy:.4f}\")"
   ]
  },
  {
   "cell_type": "markdown",
   "metadata": {},
   "source": [
    "# Model Visualization\n",
    "Implement visualization of model architecture, training history, weight distributions, and gradient distributions using matplotlib and networkx."
   ]
  },
  {
   "cell_type": "code",
   "execution_count": null,
   "metadata": {},
   "outputs": [],
   "source": [
    "# # Visualisasi arsitektur model FFNN\n",
    "# model.plot_model()\n",
    "\n",
    "# # Grafik History Training (Epoch terhadap Loss)\n",
    "# plt.figure(figsize=(10, 6))\n",
    "# plt.plot(history['train_loss'], label='Training Loss')\n",
    "# plt.plot(history['val_loss'], label='Validation Loss')\n",
    "# plt.title('Training and Validation Loss')\n",
    "# plt.xlabel('Epoch')\n",
    "# plt.ylabel('Loss')\n",
    "# plt.legend()\n",
    "# plt.grid(True, alpha=0.3)\n",
    "# plt.show()\n",
    "\n",
    "# Distribusi Bobot di tiap layer\n",
    "model.plot_weight_distribution()\n",
    "\n",
    "# Distribusi gradient di tiap layer\n",
    "model.plot_gradient_distribution()\n",
    "\n",
    "# contoh hasil prediksi 20 data:\n",
    "# plt.figure(figsize=(15, 5))\n",
    "# for i in range(20):\n",
    "#     plt.subplot(2, 10, i+1)\n",
    "#     plt.imshow(X_test[i].reshape(28, 28), cmap='gray')\n",
    "#     plt.title(f\"True: {y_true_classes[i]}, Pred: {y_pred_classes[i]}\")\n",
    "#     plt.axis('off')\n",
    "# plt.tight_layout()\n",
    "# plt.show()"
   ]
  },
  {
   "cell_type": "markdown",
   "metadata": {},
   "source": [
    "# Save and Load Model\n",
    "Demonstrate saving the trained model to disk and loading it back, then verify the loaded model produces identical predictions."
   ]
  },
  {
   "cell_type": "code",
   "execution_count": null,
   "metadata": {},
   "outputs": [],
   "source": [
    "# Simpen model ke file\n",
    "model.save(\"ffnn_model.pkl\")\n",
    "\n",
    "# Load model dari file\n",
    "loaded_model = FFNN.load(\"ffnn_model.pkl\")\n",
    "\n",
    "# Cek apakah model yang di-load hasilin prediksi yang sama\n",
    "y_pred_original = model.predict(X_test)\n",
    "y_pred_loaded = loaded_model.predict(X_test)\n",
    "identical_predictions = np.allclose(y_pred_original, y_pred_loaded)\n",
    "print(f\"Are predictions identical? {'Yes' if identical_predictions else 'No'}\")\n",
    "\n",
    "# Hitung akurasi untuk model yang di-load\n",
    "y_pred_loaded_classes = np.argmax(y_pred_loaded, axis=1)\n",
    "y_true_classes = np.argmax(y_test, axis=1)\n",
    "accuracy_loaded = np.mean(y_pred_loaded_classes == y_true_classes)\n",
    "print(f\"Test accuracy (loaded model): {accuracy_loaded:.4f}\")"
   ]
  }
 ],
 "metadata": {
  "kernelspec": {
   "display_name": "Python 3",
   "language": "python",
   "name": "python3"
  },
  "language_info": {
   "codemirror_mode": {
    "name": "ipython",
    "version": 3
   },
   "file_extension": ".py",
   "mimetype": "text/x-python",
   "name": "python",
   "nbconvert_exporter": "python",
   "pygments_lexer": "ipython3",
   "version": "3.12.8"
  }
 },
 "nbformat": 4,
 "nbformat_minor": 2
}
